{
 "cells": [
  {
   "cell_type": "code",
   "execution_count": 75,
   "metadata": {},
   "outputs": [],
   "source": [
    "import numpy as np\n",
    "import pandas as pd"
   ]
  },
  {
   "cell_type": "code",
   "execution_count": 76,
   "metadata": {},
   "outputs": [],
   "source": [
    "v_min = 2   # minimal volume\n",
    "leaway_factor = 1.1    # factor for adjusting the volume\n",
    "max_volume = 2000    # maximal solution volume"
   ]
  },
  {
   "cell_type": "code",
   "execution_count": 77,
   "metadata": {},
   "outputs": [],
   "source": [
    "# raw_request_df = pd.DataFrame(np.array([[350, 1000], [250, 300], [100, 300]]))\n",
    "raw_request_df = pd.read_csv(\"test.csv\")"
   ]
  },
  {
   "cell_type": "code",
   "execution_count": 78,
   "metadata": {},
   "outputs": [
    {
     "data": {
      "text/plain": [
       "True"
      ]
     },
     "execution_count": 78,
     "metadata": {},
     "output_type": "execute_result"
    }
   ],
   "source": [
    "raw_request_df.columns.to_list() == [\"concentration\", \"volume\"]"
   ]
  },
  {
   "cell_type": "code",
   "execution_count": 79,
   "metadata": {},
   "outputs": [
    {
     "data": {
      "text/html": [
       "<div>\n",
       "<style scoped>\n",
       "    .dataframe tbody tr th:only-of-type {\n",
       "        vertical-align: middle;\n",
       "    }\n",
       "\n",
       "    .dataframe tbody tr th {\n",
       "        vertical-align: top;\n",
       "    }\n",
       "\n",
       "    .dataframe thead th {\n",
       "        text-align: right;\n",
       "    }\n",
       "</style>\n",
       "<table border=\"1\" class=\"dataframe\">\n",
       "  <thead>\n",
       "    <tr style=\"text-align: right;\">\n",
       "      <th></th>\n",
       "      <th>concentration</th>\n",
       "      <th>volume</th>\n",
       "    </tr>\n",
       "  </thead>\n",
       "  <tbody>\n",
       "    <tr>\n",
       "      <th>0</th>\n",
       "      <td>350</td>\n",
       "      <td>2000</td>\n",
       "    </tr>\n",
       "    <tr>\n",
       "      <th>1</th>\n",
       "      <td>300</td>\n",
       "      <td>200</td>\n",
       "    </tr>\n",
       "    <tr>\n",
       "      <th>2</th>\n",
       "      <td>250</td>\n",
       "      <td>200</td>\n",
       "    </tr>\n",
       "    <tr>\n",
       "      <th>3</th>\n",
       "      <td>225</td>\n",
       "      <td>200</td>\n",
       "    </tr>\n",
       "    <tr>\n",
       "      <th>4</th>\n",
       "      <td>200</td>\n",
       "      <td>200</td>\n",
       "    </tr>\n",
       "    <tr>\n",
       "      <th>5</th>\n",
       "      <td>180</td>\n",
       "      <td>200</td>\n",
       "    </tr>\n",
       "    <tr>\n",
       "      <th>6</th>\n",
       "      <td>160</td>\n",
       "      <td>200</td>\n",
       "    </tr>\n",
       "    <tr>\n",
       "      <th>7</th>\n",
       "      <td>140</td>\n",
       "      <td>200</td>\n",
       "    </tr>\n",
       "    <tr>\n",
       "      <th>8</th>\n",
       "      <td>120</td>\n",
       "      <td>200</td>\n",
       "    </tr>\n",
       "    <tr>\n",
       "      <th>9</th>\n",
       "      <td>100</td>\n",
       "      <td>200</td>\n",
       "    </tr>\n",
       "    <tr>\n",
       "      <th>10</th>\n",
       "      <td>50</td>\n",
       "      <td>200</td>\n",
       "    </tr>\n",
       "    <tr>\n",
       "      <th>11</th>\n",
       "      <td>25</td>\n",
       "      <td>200</td>\n",
       "    </tr>\n",
       "    <tr>\n",
       "      <th>12</th>\n",
       "      <td>10</td>\n",
       "      <td>200</td>\n",
       "    </tr>\n",
       "  </tbody>\n",
       "</table>\n",
       "</div>"
      ],
      "text/plain": [
       "    concentration  volume\n",
       "0             350    2000\n",
       "1             300     200\n",
       "2             250     200\n",
       "3             225     200\n",
       "4             200     200\n",
       "5             180     200\n",
       "6             160     200\n",
       "7             140     200\n",
       "8             120     200\n",
       "9             100     200\n",
       "10             50     200\n",
       "11             25     200\n",
       "12             10     200"
      ]
     },
     "execution_count": 79,
     "metadata": {},
     "output_type": "execute_result"
    }
   ],
   "source": [
    "raw_request_df"
   ]
  },
  {
   "cell_type": "code",
   "execution_count": 80,
   "metadata": {},
   "outputs": [],
   "source": [
    "request_df = raw_request_df.copy()\n",
    "request_df[\"volume\"][1:] = leaway_factor * raw_request_df[\"volume\"][1:]"
   ]
  },
  {
   "cell_type": "code",
   "execution_count": 81,
   "metadata": {
    "scrolled": false
   },
   "outputs": [
    {
     "data": {
      "text/html": [
       "<div>\n",
       "<style scoped>\n",
       "    .dataframe tbody tr th:only-of-type {\n",
       "        vertical-align: middle;\n",
       "    }\n",
       "\n",
       "    .dataframe tbody tr th {\n",
       "        vertical-align: top;\n",
       "    }\n",
       "\n",
       "    .dataframe thead th {\n",
       "        text-align: right;\n",
       "    }\n",
       "</style>\n",
       "<table border=\"1\" class=\"dataframe\">\n",
       "  <thead>\n",
       "    <tr style=\"text-align: right;\">\n",
       "      <th></th>\n",
       "      <th>concentration</th>\n",
       "      <th>volume</th>\n",
       "    </tr>\n",
       "  </thead>\n",
       "  <tbody>\n",
       "    <tr>\n",
       "      <th>0</th>\n",
       "      <td>350</td>\n",
       "      <td>2000.0</td>\n",
       "    </tr>\n",
       "    <tr>\n",
       "      <th>1</th>\n",
       "      <td>300</td>\n",
       "      <td>220.0</td>\n",
       "    </tr>\n",
       "    <tr>\n",
       "      <th>2</th>\n",
       "      <td>250</td>\n",
       "      <td>220.0</td>\n",
       "    </tr>\n",
       "    <tr>\n",
       "      <th>3</th>\n",
       "      <td>225</td>\n",
       "      <td>220.0</td>\n",
       "    </tr>\n",
       "    <tr>\n",
       "      <th>4</th>\n",
       "      <td>200</td>\n",
       "      <td>220.0</td>\n",
       "    </tr>\n",
       "    <tr>\n",
       "      <th>5</th>\n",
       "      <td>180</td>\n",
       "      <td>220.0</td>\n",
       "    </tr>\n",
       "    <tr>\n",
       "      <th>6</th>\n",
       "      <td>160</td>\n",
       "      <td>220.0</td>\n",
       "    </tr>\n",
       "    <tr>\n",
       "      <th>7</th>\n",
       "      <td>140</td>\n",
       "      <td>220.0</td>\n",
       "    </tr>\n",
       "    <tr>\n",
       "      <th>8</th>\n",
       "      <td>120</td>\n",
       "      <td>220.0</td>\n",
       "    </tr>\n",
       "    <tr>\n",
       "      <th>9</th>\n",
       "      <td>100</td>\n",
       "      <td>220.0</td>\n",
       "    </tr>\n",
       "    <tr>\n",
       "      <th>10</th>\n",
       "      <td>50</td>\n",
       "      <td>220.0</td>\n",
       "    </tr>\n",
       "    <tr>\n",
       "      <th>11</th>\n",
       "      <td>25</td>\n",
       "      <td>220.0</td>\n",
       "    </tr>\n",
       "    <tr>\n",
       "      <th>12</th>\n",
       "      <td>10</td>\n",
       "      <td>220.0</td>\n",
       "    </tr>\n",
       "  </tbody>\n",
       "</table>\n",
       "</div>"
      ],
      "text/plain": [
       "    concentration  volume\n",
       "0             350  2000.0\n",
       "1             300   220.0\n",
       "2             250   220.0\n",
       "3             225   220.0\n",
       "4             200   220.0\n",
       "5             180   220.0\n",
       "6             160   220.0\n",
       "7             140   220.0\n",
       "8             120   220.0\n",
       "9             100   220.0\n",
       "10             50   220.0\n",
       "11             25   220.0\n",
       "12             10   220.0"
      ]
     },
     "execution_count": 81,
     "metadata": {},
     "output_type": "execute_result"
    }
   ],
   "source": [
    "request_df"
   ]
  },
  {
   "cell_type": "code",
   "execution_count": 107,
   "metadata": {},
   "outputs": [
    {
     "data": {
      "text/html": [
       "<div>\n",
       "<style scoped>\n",
       "    .dataframe tbody tr th:only-of-type {\n",
       "        vertical-align: middle;\n",
       "    }\n",
       "\n",
       "    .dataframe tbody tr th {\n",
       "        vertical-align: top;\n",
       "    }\n",
       "\n",
       "    .dataframe thead th {\n",
       "        text-align: right;\n",
       "    }\n",
       "</style>\n",
       "<table border=\"1\" class=\"dataframe\">\n",
       "  <thead>\n",
       "    <tr style=\"text-align: right;\">\n",
       "      <th></th>\n",
       "      <th>concentration</th>\n",
       "      <th>volume</th>\n",
       "    </tr>\n",
       "  </thead>\n",
       "  <tbody>\n",
       "    <tr>\n",
       "      <th>0</th>\n",
       "      <td>350</td>\n",
       "      <td>2000.0</td>\n",
       "    </tr>\n",
       "    <tr>\n",
       "      <th>1</th>\n",
       "      <td>350</td>\n",
       "      <td>2000.0</td>\n",
       "    </tr>\n",
       "    <tr>\n",
       "      <th>2</th>\n",
       "      <td>300</td>\n",
       "      <td>220.0</td>\n",
       "    </tr>\n",
       "    <tr>\n",
       "      <th>3</th>\n",
       "      <td>250</td>\n",
       "      <td>220.0</td>\n",
       "    </tr>\n",
       "    <tr>\n",
       "      <th>4</th>\n",
       "      <td>225</td>\n",
       "      <td>220.0</td>\n",
       "    </tr>\n",
       "    <tr>\n",
       "      <th>5</th>\n",
       "      <td>200</td>\n",
       "      <td>220.0</td>\n",
       "    </tr>\n",
       "    <tr>\n",
       "      <th>6</th>\n",
       "      <td>180</td>\n",
       "      <td>220.0</td>\n",
       "    </tr>\n",
       "    <tr>\n",
       "      <th>7</th>\n",
       "      <td>160</td>\n",
       "      <td>220.0</td>\n",
       "    </tr>\n",
       "    <tr>\n",
       "      <th>8</th>\n",
       "      <td>140</td>\n",
       "      <td>220.0</td>\n",
       "    </tr>\n",
       "    <tr>\n",
       "      <th>9</th>\n",
       "      <td>120</td>\n",
       "      <td>220.0</td>\n",
       "    </tr>\n",
       "    <tr>\n",
       "      <th>10</th>\n",
       "      <td>100</td>\n",
       "      <td>220.0</td>\n",
       "    </tr>\n",
       "    <tr>\n",
       "      <th>11</th>\n",
       "      <td>50</td>\n",
       "      <td>220.0</td>\n",
       "    </tr>\n",
       "    <tr>\n",
       "      <th>12</th>\n",
       "      <td>25</td>\n",
       "      <td>220.0</td>\n",
       "    </tr>\n",
       "    <tr>\n",
       "      <th>13</th>\n",
       "      <td>10</td>\n",
       "      <td>220.0</td>\n",
       "    </tr>\n",
       "  </tbody>\n",
       "</table>\n",
       "</div>"
      ],
      "text/plain": [
       "    concentration  volume\n",
       "0             350  2000.0\n",
       "1             350  2000.0\n",
       "2             300   220.0\n",
       "3             250   220.0\n",
       "4             225   220.0\n",
       "5             200   220.0\n",
       "6             180   220.0\n",
       "7             160   220.0\n",
       "8             140   220.0\n",
       "9             120   220.0\n",
       "10            100   220.0\n",
       "11             50   220.0\n",
       "12             25   220.0\n",
       "13             10   220.0"
      ]
     },
     "execution_count": 107,
     "metadata": {},
     "output_type": "execute_result"
    }
   ],
   "source": [
    "pd.concat([request_df.iloc[:1], request_df.iloc[:1], request_df.iloc[1:]]).reset_index(drop=True)"
   ]
  },
  {
   "cell_type": "code",
   "execution_count": 82,
   "metadata": {},
   "outputs": [],
   "source": [
    "idx_to_concentration = dict(zip(request_df.index, request_df[\"concentration\"]))\n",
    "idx_to_volume = dict(zip(request_df.index, request_df[\"volume\"]))"
   ]
  },
  {
   "cell_type": "markdown",
   "metadata": {},
   "source": [
    "Validity check"
   ]
  },
  {
   "cell_type": "code",
   "execution_count": 83,
   "metadata": {},
   "outputs": [],
   "source": [
    "sum_series = request_df[\"concentration\"] * request_df[\"volume\"]"
   ]
  },
  {
   "cell_type": "code",
   "execution_count": 84,
   "metadata": {},
   "outputs": [
    {
     "data": {
      "text/plain": [
       "True"
      ]
     },
     "execution_count": 84,
     "metadata": {},
     "output_type": "execute_result"
    }
   ],
   "source": [
    "sum_series[0] > sum_series[1:].sum()"
   ]
  },
  {
   "cell_type": "code",
   "execution_count": 85,
   "metadata": {},
   "outputs": [
    {
     "data": {
      "text/plain": [
       "True"
      ]
     },
     "execution_count": 85,
     "metadata": {},
     "output_type": "execute_result"
    }
   ],
   "source": [
    "all(request_df[\"volume\"] > 2 * v_min)"
   ]
  },
  {
   "cell_type": "code",
   "execution_count": 86,
   "metadata": {},
   "outputs": [],
   "source": [
    "def find_solutions_two(min_concentrations, max_concentrations):\n",
    "    boundary_to_count = {}\n",
    "    current_count = 0\n",
    "    for boundary in sorted(min_concentrations + max_concentrations):\n",
    "        if boundary in min_concentrations:\n",
    "            current_count += 1\n",
    "        else:\n",
    "            current_count -= 1\n",
    "        boundary_to_count[boundary] = current_count\n",
    "    min_count = len(min_concentrations) - max(boundary_to_count.values())\n",
    "    \n",
    "    a_left = 0\n",
    "    a_right = 0\n",
    "    \n",
    "    for boundary in sorted(min_concentrations + max_concentrations):\n",
    "        if boundary_to_count[boundary] >= min_count and a_left == 0:\n",
    "            a_left = boundary\n",
    "        if boundary_to_count[boundary] < min_count and a_left != 0:\n",
    "            a_right = boundary"
   ]
  },
  {
   "cell_type": "code",
   "execution_count": 87,
   "metadata": {},
   "outputs": [],
   "source": [
    "min_concentrations = []\n",
    "max_concentrations = []\n",
    "original_idxs = [0]\n",
    "\n",
    "for j, v_j in idx_to_volume.items():\n",
    "    if j == 0:\n",
    "        continue\n",
    "    min_concentrations.append((v_j / (v_j - v_min)) * idx_to_concentration[j])\n",
    "    max_concentrations.append((v_j / v_min) * idx_to_concentration[j])\n",
    "    \n",
    "if idx_to_concentration[0] < max(min_concentrations):\n",
    "    # too low\n",
    "    raise Exception(f\"original stock solution's concentration needs to be at least {max(min_concentrations):.2f}\")\n",
    "    \n",
    "if max(min_concentrations) < min(max_concentrations):\n",
    "    # one stock solution can cover all\n",
    "    if idx_to_concentration[0] > min(max_concentrations):\n",
    "        raise Exception(f\"original stock solution needs to be diluted to {max(min_concentrations):.2f} to {min(max_concentrations):.2f}\")\n",
    "else:\n",
    "    # need multiple stock solutions to dilute from\n",
    "    # see if two can cover all\n",
    "    # heuristic: find the median value between the current concentration and the smallest of min_concentrations\n",
    "    new_stock_concentration = 0.5 * (min(min_concentrations), idx_to_concentration[0])\n",
    "    for idx in range(1, len(min_concentrations)):\n",
    "        if (new_stock_concentration > min_concentrations[idx] \\\n",
    "            and new_stock_concentration < max_concentrations[idx]) or \\\n",
    "            (idx_to_concentration[0] > min_concentrations[idx] \\\n",
    "            and idx_to_concentration[0] < max_concentrations[idx]):\n",
    "            continue\n",
    "        raise Exception(f\"need more than 2 stock solutions with different concentrations\")\n",
    "    new_stock_line = pd.DataFrame({\"concentration\": new_stock_concentration, \"volume\": max_volume})\n",
    "    request_df = pd.concat([request_df.iloc[:1], new_stock_line, request_df.iloc[1:]]).reset_index(drop=True)\n",
    "    original_idxs.append(1)\n",
    "    idx_to_concentration = dict(zip(request_df.index, request_df[\"concentration\"]))\n",
    "    idx_to_volume = dict(zip(request_df.index, request_df[\"volume\"]))"
   ]
  },
  {
   "cell_type": "markdown",
   "metadata": {},
   "source": [
    "Initialize"
   ]
  },
  {
   "cell_type": "code",
   "execution_count": 88,
   "metadata": {},
   "outputs": [],
   "source": [
    "j_to_i = {}\n",
    "v_need_dict = {idx: raw_request_df[\"volume\"].iloc[idx] if idx != 0 else 0 \\\n",
    "               for idx in range(raw_request_df.shape[0])}\n",
    "v_dilute_dict = {}\n",
    "v_buffer_dict = {}"
   ]
  },
  {
   "cell_type": "code",
   "execution_count": 89,
   "metadata": {},
   "outputs": [
    {
     "data": {
      "text/plain": [
       "{0: 0,\n",
       " 1: 200,\n",
       " 2: 200,\n",
       " 3: 200,\n",
       " 4: 200,\n",
       " 5: 200,\n",
       " 6: 200,\n",
       " 7: 200,\n",
       " 8: 200,\n",
       " 9: 200,\n",
       " 10: 200,\n",
       " 11: 200,\n",
       " 12: 200}"
      ]
     },
     "execution_count": 89,
     "metadata": {},
     "output_type": "execute_result"
    }
   ],
   "source": [
    "v_need_dict"
   ]
  },
  {
   "cell_type": "code",
   "execution_count": null,
   "metadata": {},
   "outputs": [],
   "source": [
    "def check_concentration(concentration, volume, v_min, ori_concentration):\n",
    "    if (volume / (volume - v_min)) * concentration > ori_concentration:\n",
    "        # too large\n",
    "        return 1\n",
    "    elif (volume / v_min) * concentration < ori_concentration:\n",
    "        # j's concentration too small for the original stock solution, search for newer ones\n",
    "        for i in range(1, j):\n",
    "            if (idx_to_volume[j] / (idx_to_volume[j] - v_min)) * idx_to_concentration[j] \\\n",
    "                > idx_to_concentration[i]:\n",
    "                # j's concentration too large for i, fail\n",
    "                raise Exception(f\"concentration at {j}-th row is too large ({idx_to_concentration[j]})\")\n",
    "            elif (idx_to_volume[j] / v_min) * idx_to_concentration[j] > idx_to_concentration[i]:\n",
    "                j_to_i[j] = i\n",
    "                break\n",
    "        if i == j - 1:\n",
    "            raise Exception(f\"concentration at {j}-th row is too small ({idx_to_concentration[j]})\")"
   ]
  },
  {
   "cell_type": "code",
   "execution_count": 90,
   "metadata": {},
   "outputs": [],
   "source": [
    "for j in range(request_df.shape[0] - 1, 0, -1):\n",
    "    if (idx_to_volume[j] / (idx_to_volume[j] - v_min)) * idx_to_concentration[j] > idx_to_concentration[0]:\n",
    "        # j's concentration too large, fail\n",
    "        raise Exception(f\"concentration at {j}-th row is too large ({idx_to_concentration[j]})\")\n",
    "    elif (idx_to_volume[j] / v_min) * idx_to_concentration[j] < idx_to_concentration[0]:\n",
    "        # j's concentration too small for the original stock solution, search for newer ones\n",
    "        for i in range(1, j):\n",
    "            if (idx_to_volume[j] / (idx_to_volume[j] - v_min)) * idx_to_concentration[j] \\\n",
    "                > idx_to_concentration[i]:\n",
    "                # j's concentration too large for i, fail\n",
    "                raise Exception(f\"concentration at {j}-th row is too large ({idx_to_concentration[j]})\")\n",
    "            elif (idx_to_volume[j] / v_min) * idx_to_concentration[j] > idx_to_concentration[i]:\n",
    "                j_to_i[j] = i\n",
    "                break\n",
    "        if i == j - 1:\n",
    "            raise Exception(f\"concentration at {j}-th row is too small ({idx_to_concentration[j]})\")\n",
    "    else:\n",
    "        # best case scenario, can dilute from original stock solution\n",
    "        j_to_i[j] = 0\n",
    "    v_need_dict[j_to_i[j]] += (idx_to_concentration[j] / idx_to_concentration[j_to_i[j]]) * idx_to_volume[j]\n",
    "    if v_need_dict[j_to_i[j]] > idx_to_volume[j_to_i[j]]:\n",
    "        # the volume needed for i-th row is larger than the requested volume even after adjusting, fail\n",
    "        raise Exception(f\"volume needed for {j_to_i[j]}-th row is too large ({v_need_dict[j_to_i[j]]}), try requesting more\")\n",
    "    v_dilute_dict[j] = (idx_to_concentration[j] / idx_to_concentration[j_to_i[j]]) * idx_to_volume[j]\n",
    "    v_buffer_dict[j] = ((idx_to_concentration[j_to_i[j]] - idx_to_concentration[j]) \\\n",
    "                        / idx_to_concentration[j_to_i[j]]) * idx_to_volume[j]"
   ]
  },
  {
   "cell_type": "code",
   "execution_count": 91,
   "metadata": {
    "scrolled": true
   },
   "outputs": [
    {
     "data": {
      "text/plain": [
       "{12: 0, 11: 0, 10: 0, 9: 0, 8: 0, 7: 0, 6: 0, 5: 0, 4: 0, 3: 0, 2: 0, 1: 0}"
      ]
     },
     "execution_count": 91,
     "metadata": {},
     "output_type": "execute_result"
    }
   ],
   "source": [
    "j_to_i"
   ]
  },
  {
   "cell_type": "code",
   "execution_count": 92,
   "metadata": {},
   "outputs": [
    {
     "data": {
      "text/plain": [
       "{0: 2000.0,\n",
       " 1: 220.00000000000003,\n",
       " 2: 220.00000000000003,\n",
       " 3: 220.00000000000003,\n",
       " 4: 220.00000000000003,\n",
       " 5: 220.00000000000003,\n",
       " 6: 220.00000000000003,\n",
       " 7: 220.00000000000003,\n",
       " 8: 220.00000000000003,\n",
       " 9: 220.00000000000003,\n",
       " 10: 220.00000000000003,\n",
       " 11: 220.00000000000003,\n",
       " 12: 220.00000000000003}"
      ]
     },
     "execution_count": 92,
     "metadata": {},
     "output_type": "execute_result"
    }
   ],
   "source": [
    "idx_to_volume"
   ]
  },
  {
   "cell_type": "code",
   "execution_count": 93,
   "metadata": {},
   "outputs": [
    {
     "data": {
      "text/plain": [
       "{12: 213.71428571428575,\n",
       " 11: 204.2857142857143,\n",
       " 10: 188.57142857142858,\n",
       " 9: 157.14285714285717,\n",
       " 8: 144.57142857142858,\n",
       " 7: 132.0,\n",
       " 6: 119.42857142857143,\n",
       " 5: 106.85714285714288,\n",
       " 4: 94.28571428571429,\n",
       " 3: 78.57142857142858,\n",
       " 2: 62.85714285714286,\n",
       " 1: 31.42857142857143}"
      ]
     },
     "execution_count": 93,
     "metadata": {},
     "output_type": "execute_result"
    }
   ],
   "source": [
    "v_buffer_dict"
   ]
  },
  {
   "cell_type": "code",
   "execution_count": 94,
   "metadata": {},
   "outputs": [
    {
     "data": {
      "text/plain": [
       "{12: 6.2857142857142865,\n",
       " 11: 15.714285714285715,\n",
       " 10: 31.42857142857143,\n",
       " 9: 62.85714285714286,\n",
       " 8: 75.42857142857144,\n",
       " 7: 88.00000000000001,\n",
       " 6: 100.57142857142858,\n",
       " 5: 113.14285714285715,\n",
       " 4: 125.71428571428572,\n",
       " 3: 141.42857142857144,\n",
       " 2: 157.14285714285717,\n",
       " 1: 188.57142857142858}"
      ]
     },
     "execution_count": 94,
     "metadata": {},
     "output_type": "execute_result"
    }
   ],
   "source": [
    "v_dilute_dict"
   ]
  },
  {
   "cell_type": "code",
   "execution_count": 95,
   "metadata": {},
   "outputs": [
    {
     "data": {
      "text/plain": [
       "{0: 1106.2857142857144,\n",
       " 1: 200,\n",
       " 2: 200,\n",
       " 3: 200,\n",
       " 4: 200,\n",
       " 5: 200,\n",
       " 6: 200,\n",
       " 7: 200,\n",
       " 8: 200,\n",
       " 9: 200,\n",
       " 10: 200,\n",
       " 11: 200,\n",
       " 12: 200}"
      ]
     },
     "execution_count": 95,
     "metadata": {},
     "output_type": "execute_result"
    }
   ],
   "source": [
    "v_need_dict"
   ]
  },
  {
   "cell_type": "markdown",
   "metadata": {},
   "source": [
    "Output"
   ]
  },
  {
   "cell_type": "code",
   "execution_count": 96,
   "metadata": {},
   "outputs": [],
   "source": [
    "output_df = pd.concat([request_df, pd.DataFrame(columns=[\"dilution volume\", \"buffer volume\", \"from\"])], sort=False)\n"
   ]
  },
  {
   "cell_type": "code",
   "execution_count": 97,
   "metadata": {},
   "outputs": [],
   "source": [
    "for j, i in j_to_i.items():\n",
    "    output_df.at[j, \"from\"] = i\n",
    "    output_df.at[j, \"buffer volume\"] = v_buffer_dict[j]\n",
    "    output_df.at[j, \"dilution volume\"] = v_dilute_dict[j]\n",
    "output_df.at[0, \"volume\"] = v_need_dict[0]"
   ]
  },
  {
   "cell_type": "code",
   "execution_count": 98,
   "metadata": {
    "scrolled": false
   },
   "outputs": [
    {
     "data": {
      "text/html": [
       "<div>\n",
       "<style scoped>\n",
       "    .dataframe tbody tr th:only-of-type {\n",
       "        vertical-align: middle;\n",
       "    }\n",
       "\n",
       "    .dataframe tbody tr th {\n",
       "        vertical-align: top;\n",
       "    }\n",
       "\n",
       "    .dataframe thead th {\n",
       "        text-align: right;\n",
       "    }\n",
       "</style>\n",
       "<table border=\"1\" class=\"dataframe\">\n",
       "  <thead>\n",
       "    <tr style=\"text-align: right;\">\n",
       "      <th></th>\n",
       "      <th>concentration</th>\n",
       "      <th>volume</th>\n",
       "      <th>dilution volume</th>\n",
       "      <th>buffer volume</th>\n",
       "      <th>from</th>\n",
       "    </tr>\n",
       "  </thead>\n",
       "  <tbody>\n",
       "    <tr>\n",
       "      <th>0</th>\n",
       "      <td>350.0</td>\n",
       "      <td>1106.285714</td>\n",
       "      <td>NaN</td>\n",
       "      <td>NaN</td>\n",
       "      <td>NaN</td>\n",
       "    </tr>\n",
       "    <tr>\n",
       "      <th>1</th>\n",
       "      <td>300.0</td>\n",
       "      <td>220.000000</td>\n",
       "      <td>188.571</td>\n",
       "      <td>31.4286</td>\n",
       "      <td>0</td>\n",
       "    </tr>\n",
       "    <tr>\n",
       "      <th>2</th>\n",
       "      <td>250.0</td>\n",
       "      <td>220.000000</td>\n",
       "      <td>157.143</td>\n",
       "      <td>62.8571</td>\n",
       "      <td>0</td>\n",
       "    </tr>\n",
       "    <tr>\n",
       "      <th>3</th>\n",
       "      <td>225.0</td>\n",
       "      <td>220.000000</td>\n",
       "      <td>141.429</td>\n",
       "      <td>78.5714</td>\n",
       "      <td>0</td>\n",
       "    </tr>\n",
       "    <tr>\n",
       "      <th>4</th>\n",
       "      <td>200.0</td>\n",
       "      <td>220.000000</td>\n",
       "      <td>125.714</td>\n",
       "      <td>94.2857</td>\n",
       "      <td>0</td>\n",
       "    </tr>\n",
       "    <tr>\n",
       "      <th>5</th>\n",
       "      <td>180.0</td>\n",
       "      <td>220.000000</td>\n",
       "      <td>113.143</td>\n",
       "      <td>106.857</td>\n",
       "      <td>0</td>\n",
       "    </tr>\n",
       "    <tr>\n",
       "      <th>6</th>\n",
       "      <td>160.0</td>\n",
       "      <td>220.000000</td>\n",
       "      <td>100.571</td>\n",
       "      <td>119.429</td>\n",
       "      <td>0</td>\n",
       "    </tr>\n",
       "    <tr>\n",
       "      <th>7</th>\n",
       "      <td>140.0</td>\n",
       "      <td>220.000000</td>\n",
       "      <td>88</td>\n",
       "      <td>132</td>\n",
       "      <td>0</td>\n",
       "    </tr>\n",
       "    <tr>\n",
       "      <th>8</th>\n",
       "      <td>120.0</td>\n",
       "      <td>220.000000</td>\n",
       "      <td>75.4286</td>\n",
       "      <td>144.571</td>\n",
       "      <td>0</td>\n",
       "    </tr>\n",
       "    <tr>\n",
       "      <th>9</th>\n",
       "      <td>100.0</td>\n",
       "      <td>220.000000</td>\n",
       "      <td>62.8571</td>\n",
       "      <td>157.143</td>\n",
       "      <td>0</td>\n",
       "    </tr>\n",
       "    <tr>\n",
       "      <th>10</th>\n",
       "      <td>50.0</td>\n",
       "      <td>220.000000</td>\n",
       "      <td>31.4286</td>\n",
       "      <td>188.571</td>\n",
       "      <td>0</td>\n",
       "    </tr>\n",
       "    <tr>\n",
       "      <th>11</th>\n",
       "      <td>25.0</td>\n",
       "      <td>220.000000</td>\n",
       "      <td>15.7143</td>\n",
       "      <td>204.286</td>\n",
       "      <td>0</td>\n",
       "    </tr>\n",
       "    <tr>\n",
       "      <th>12</th>\n",
       "      <td>10.0</td>\n",
       "      <td>220.000000</td>\n",
       "      <td>6.28571</td>\n",
       "      <td>213.714</td>\n",
       "      <td>0</td>\n",
       "    </tr>\n",
       "  </tbody>\n",
       "</table>\n",
       "</div>"
      ],
      "text/plain": [
       "    concentration       volume dilution volume buffer volume from\n",
       "0           350.0  1106.285714             NaN           NaN  NaN\n",
       "1           300.0   220.000000         188.571       31.4286    0\n",
       "2           250.0   220.000000         157.143       62.8571    0\n",
       "3           225.0   220.000000         141.429       78.5714    0\n",
       "4           200.0   220.000000         125.714       94.2857    0\n",
       "5           180.0   220.000000         113.143       106.857    0\n",
       "6           160.0   220.000000         100.571       119.429    0\n",
       "7           140.0   220.000000              88           132    0\n",
       "8           120.0   220.000000         75.4286       144.571    0\n",
       "9           100.0   220.000000         62.8571       157.143    0\n",
       "10           50.0   220.000000         31.4286       188.571    0\n",
       "11           25.0   220.000000         15.7143       204.286    0\n",
       "12           10.0   220.000000         6.28571       213.714    0"
      ]
     },
     "execution_count": 98,
     "metadata": {},
     "output_type": "execute_result"
    }
   ],
   "source": [
    "output_df"
   ]
  }
 ],
 "metadata": {
  "kernelspec": {
   "display_name": "Python 3",
   "language": "python",
   "name": "python3"
  },
  "language_info": {
   "codemirror_mode": {
    "name": "ipython",
    "version": 3
   },
   "file_extension": ".py",
   "mimetype": "text/x-python",
   "name": "python",
   "nbconvert_exporter": "python",
   "pygments_lexer": "ipython3",
   "version": "3.7.3"
  }
 },
 "nbformat": 4,
 "nbformat_minor": 2
}
